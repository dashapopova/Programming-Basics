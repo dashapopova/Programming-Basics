{
 "cells": [
  {
   "cell_type": "code",
   "execution_count": 7,
   "metadata": {},
   "outputs": [
    {
     "name": "stdout",
     "output_type": "stream",
     "text": [
      "{'pr': 26, 'sp': 15, 'st': 36, 'pl': 33, 'fl': 16, 'str': 7, 'dr': 28, 'br': 25, 'cl': 11, 'sl': 14, 'cr': 50, 'sc': 1, 'sm': 5, 'spl': 3, 'sk': 4, 'sw': 9, 'gl': 22, 'gr': 53, 'tr': 49, 'fr': 35, 'shr': 7, 'scr': 3, 'sq': 1, 'bl': 8, 'thr': 21, 'sn': 8, 'tw': 19, 'spr': 2}\n",
      "{'pr': ['produced', 'proofreading', 'printed', 'promised', 'prosecute', 'pretexts', 'pressing', 'presently', 'proved', 'present--at', 'producing', 'prison', 'proceed', 'proper', 'prisoner', 'prove', 'project', 'pressed', 'procession', 'prizes'], 'sp': ['spehar', 'speed', 'speaking', 'low-spirited', 'speak--and', 'spot', 'speaker', 'speak', 'spoke'], 'st': ['storyland', 'stupid', 'stopping', 'sticks', 'stockings', 'stigand', 'story', 'stoop', 'stairs', 'sternly', 'state', 'stalk', 'stop', 'staring', 'stupidly', 'stool', 'stirring', 'stupidest', 'stand', 'standing', 'stuff', 'started', 'stopped', 'startled', 'stamping', 'stole', 'stood'], 'pl': ['pleasure', 'plainly', 'placed', 'plate', 'pleasing', 'place', 'plates', 'places', 'played', 'pleasant', 'playing', 'plenty', 'players', 'play', 'please'], 'fl': ['flashed', 'flavor', 'flown', 'flinging', 'flower-beds', 'flat', 'flamingos', 'fly', 'flying', 'fluttered', 'flowers', 'floor', 'flamingo'], 'str': ['straight', 'struck', 'stretched', 'strange'], 'dr': ['drop', 'dried', 'dressed', 'draggled', 'dripping', 'driest', 'drunk', 'draw', 'drew', 'dreadfully', 'dream', 'drink', 'dropped', 'dry'], 'br': ['brightened', 'bring', 'bristling', 'brass', 'head--brandy', 'broke', 'branches', 'bringing', 'brought', 'brushing', 'breath', 'breathe', 'bread', 'bright', 'broken'], 'cl': ['climb', 'clinging', 'closely', 'clubs', 'clapping', 'close'], 'sl': ['slippery', 'slightest', 'sleepy', 'slipped', 'slowly', 'sleep'], 'cr': ['crying', 'creep', 'cross', 'crossly', \"crown.'--how\", 'crawled', 'crouched', 'crimson', 'croqueting', 'cross-examine', 'crash', 'crown', 'croquet-ground', 'cry', 'creatures', 'crowd', 'creature', 'crowded', 'croquet', 'cried'], 'sc': ['scolded'], 'sm': ['smaller', 'smoking', 'smallest', 'smoke', 'smiled'], 'spl': ['splendidly', 'splash', 'splashing'], 'sk': ['skurried', 'sky-rocket', 'sky'], 'sw': ['swim', 'swallowed', 'swallowing', 'swallow', 'swimming', 'swam'], 'gl': ['looking-glass', 'glad', 'kid-gloves', 'gloves', 'glass'], 'gr': ['grew', 'gravely', 'green', 'graceful', 'grinning', 'grins', 'grin', 'grand', 'grown', 'grass', 'grinned', 'grunted', 'ground', 'grow', 'growing', 'great'], 'tr': ['trembled', 'trot', 'tremble', \"trial's\", 'trotting', 'rose-tree', 'try', 'trumpet', 'trouble', 'trembling', 'trees', 'tree', 'trial', 'trying', 'tried'], 'fr': ['cucumber-frame', 'frighten', 'frog-footman', 'frowning', 'french', 'fright', 'frog', 'free', 'front', 'frightened', 'from'], 'shr': ['shrieks', 'shriek', 'shrinking'], 'scr': ['scratching', 'scrambling', 'scream'], 'sq': ['squeaking'], 'bl': ['blades', 'blue', 'blow', 'blows', 'blew', 'blasts'], 'thr': ['three-legged', 'throwing', 'threw', 'throne', 'through', 'three'], 'sn': ['sneezed', 'sneeze', 'snatch', 'sneezing'], 'tw': ['twelve', 'forty-two', 'twice', 'two'], 'spr': ['spread']}\n",
      "['bl', 'br', 'cl', 'cr', 'dr', 'fl', 'fr', 'gl', 'gr', 'pl', 'pr', 'sc', 'scr', 'shr', 'sk', 'sl', 'sm', 'sn', 'sp', 'spl', 'spr', 'sq', 'st', 'str', 'sw', 'thr', 'tr', 'tw']\n",
      "28\n"
     ]
    }
   ],
   "source": [
    "import operator\n",
    "from string import punctuation\n",
    "\n",
    "def tokenize(s): #our tokenize function from HW3\n",
    "    words = s.lower().strip().split()\n",
    "    sepwords = [word.strip(punctuation) for word in words]\n",
    "    return sepwords\n",
    "\n",
    "\n",
    "alice = open('alice.txt.').read()\n",
    "\n",
    "a = alice.find(\"*** START OF THIS PROJECT GUTENBERG EBOOK\")\n",
    "z = alice.find(\"*** END OF THIS PROJECT GUTENBERG EBOOK\")\n",
    "alice_new = alice[a:z]\n",
    "astr = '*** START OF THIS PROJECT GUTENBERG EBOOK'\n",
    "alice_new = alice_new.replace(astr, \"\")\n",
    "\n",
    "def  gutenberg_file_wc(filename): # also from HW3\n",
    "    alice_tokens = tokenize(alice_new)\n",
    "    d = {}\n",
    "    for word in alice_tokens:\n",
    "        if word in d.keys():\n",
    "            d[word] = d[word] + 1\n",
    "        else:\n",
    "            d[word] = 1\n",
    "    return d\n",
    "\n",
    "d = gutenberg_file_wc(alice_new)\n",
    "\n",
    "def view_wc(d): \n",
    "    finalice = sorted(d.items(), key=operator.itemgetter(1))\n",
    "    return finalice\n",
    "\n",
    "alice = view_wc(d)\n",
    "\n",
    "import re\n",
    "\n",
    "def clustergetter(view):\n",
    "    digrexc = ('ch', 'sh', 'th', 'gn', 'kn', 'wh', 'wr', 'ps', 'ph', 'gh', 'dh')\n",
    "    clusterdict = {}\n",
    "    clustercount = {}\n",
    "    for k in view:\n",
    "        word = k[0]\n",
    "        wcnt = k[1]\n",
    "        res = re.search(r'\\b[b-df-hj-np-tv-xz][b-df-hj-np-tv-xz]{1,}', k[0])\n",
    "        if res is None:\n",
    "            continue\n",
    "        else:\n",
    "            clst = (res.group())\n",
    "        if (clst in digrexc) or (word.startswith('tsar')) or (word.startswith('tsetse')) or (word.startswith('http')):\n",
    "            continue\n",
    "        if word.startswith('scy') or word.startswith('sci') or word.startswith('sce') or word.endswith('ll'):\n",
    "            continue\n",
    "        if clst in clusterdict.keys():\n",
    "            clusterdict[clst].append(word)\n",
    "            clustercount[clst] = clustercount[clst] + wcnt\n",
    "        else:\n",
    "            clusterdict[clst] = []\n",
    "            clusterdict[clst].append(word)\n",
    "            clustercount[clst] = wcnt\n",
    "    return(clusterdict, clustercount)\n",
    "\n",
    "final = clustergetter(alice)\n",
    "print(final[1])\n",
    "print(final[0])\n",
    "print (sorted(final[1].keys()))\n",
    "print(len(final[0]))"
   ]
  }
 ],
 "metadata": {
  "kernelspec": {
   "display_name": "Python 3",
   "language": "python",
   "name": "python3"
  },
  "language_info": {
   "codemirror_mode": {
    "name": "ipython",
    "version": 3
   },
   "file_extension": ".py",
   "mimetype": "text/x-python",
   "name": "python",
   "nbconvert_exporter": "python",
   "pygments_lexer": "ipython3",
   "version": "3.6.5"
  }
 },
 "nbformat": 4,
 "nbformat_minor": 2
}
