{
 "cells": [
  {
   "cell_type": "markdown",
   "metadata": {},
   "source": [
    "### Практика"
   ]
  },
  {
   "cell_type": "markdown",
   "metadata": {},
   "source": [
    "1. заполните пропуск, чтобы получить 'Год рождения: 2005'"
   ]
  },
  {
   "cell_type": "code",
   "execution_count": 1,
   "metadata": {},
   "outputs": [
    {
     "name": "stdout",
     "output_type": "stream",
     "text": [
      "Год рождения: 2005\n"
     ]
    }
   ],
   "source": [
    "age = 17\n",
    "print(f'Год рождения: {2022 - age}')"
   ]
  },
  {
   "cell_type": "markdown",
   "metadata": {},
   "source": [
    "2. что нужно вписать вместо пропуска, чтобы выражение возвращало True, когда оценка не соответствует ни одному из условий?"
   ]
  },
  {
   "cell_type": "code",
   "execution_count": null,
   "metadata": {},
   "outputs": [],
   "source": [
    "not((eva == 8) or (eva == 9) or (eva == 10))"
   ]
  },
  {
   "cell_type": "markdown",
   "metadata": {},
   "source": [
    "3. напишите номер строки, где ошибка синтаксиса\n",
    "\n",
    "```\n",
    "eva = int(input())\n",
    "if eva > 7:\n",
    "    print(\"Отлично\")\n",
    "elif eva > 5:\n",
    "    print(\"Хорошо\")\n",
    "elif eva > 3:\n",
    "    print(\"Удовлетворительно\")\n",
    "else eva < 3:\n",
    "    print(\"Неудовлетворительно\")\n",
    "```"
   ]
  },
  {
   "cell_type": "code",
   "execution_count": 6,
   "metadata": {},
   "outputs": [
    {
     "name": "stdout",
     "output_type": "stream",
     "text": [
      "5\n",
      "Удовлетворительно\n"
     ]
    }
   ],
   "source": [
    "eva = int(input())\n",
    "if eva > 7:\n",
    "    print(\"Отлично\")\n",
    "elif eva > 5:\n",
    "    print(\"Хорошо\")\n",
    "elif eva > 3:\n",
    "    print(\"Удовлетворительно\")\n",
    "else:\n",
    "    print(\"Неудовлетворительно\")"
   ]
  },
  {
   "cell_type": "markdown",
   "metadata": {},
   "source": [
    "4. Программа рещает следующую задачу:\n",
    "\n",
    "+ Ваня бегает каждый день, хочет узнать, на какой день он пробежит 21 км или больше\n",
    "+ каждый день он пробегает на 500 м больше, чем в предыдущий\n",
    "+ количество км, с которого Ваня начал, вводится с клавиатуры"
   ]
  },
  {
   "cell_type": "code",
   "execution_count": 8,
   "metadata": {},
   "outputs": [
    {
     "name": "stdout",
     "output_type": "stream",
     "text": [
      "2\n",
      "39\n"
     ]
    }
   ],
   "source": [
    "day = 1\n",
    "\n",
    "distance = int(input())\n",
    "\n",
    "while distance < 21:\n",
    "    distance += 0.5\n",
    "    day += 1\n",
    "print(day)"
   ]
  },
  {
   "cell_type": "markdown",
   "metadata": {},
   "source": [
    "5. Заполните пропуск, чтобы программа распечатала ```['cat','dog','parrot']```\n",
    "\n",
    "```\n",
    "pets = 'cat dog.split()'\n",
    "pets.ПРОПУСК('parrot')\n",
    "print(pets)\n",
    "```"
   ]
  },
  {
   "cell_type": "code",
   "execution_count": 10,
   "metadata": {},
   "outputs": [
    {
     "name": "stdout",
     "output_type": "stream",
     "text": [
      "['cat', 'dog', 'parrot']\n"
     ]
    }
   ],
   "source": [
    "pets = 'cat dog'.split()\n",
    "pets.append('parrot')\n",
    "print(pets)"
   ]
  },
  {
   "cell_type": "markdown",
   "metadata": {},
   "source": [
    "6. При каких значениях переменной ```word``` результат выполнения команды ```word.rfind(\"ac\")```будет такой же, как и у команды ```word.find(\"ac\")```?\n",
    "\n",
    "**\"account\"**, **\"acca\"**, **\"cat\"**, \"bacbac\", \"acabaca\""
   ]
  },
  {
   "cell_type": "markdown",
   "metadata": {},
   "source": [
    "7. Заполните пропуск, чтобы получить ```python```\n",
    "\n",
    "```\n",
    "x = 'pYtHon'\n",
    "x = x.ПРОПУСК()\n",
    "print(x)\n",
    "```"
   ]
  },
  {
   "cell_type": "code",
   "execution_count": 16,
   "metadata": {},
   "outputs": [
    {
     "name": "stdout",
     "output_type": "stream",
     "text": [
      "python\n"
     ]
    }
   ],
   "source": [
    "x = 'pYtHon'\n",
    "x = x.lower()\n",
    "print(x)"
   ]
  },
  {
   "cell_type": "markdown",
   "metadata": {},
   "source": [
    "8. \n",
    "\n",
    "```\n",
    "print(lst[1::2])\n",
    "```\n",
    "\n",
    "Если код выше выводит ```[3,8,10]```, то какие значения переменной lst могли бы быть присвоены?\n",
    "\n",
    "+ `[3,5,8,10,11]`\n",
    "+ `[1,3,5,8,10,10]`\n",
    "+ `['apple',3,'cat',8,9,10,11]`\n"
   ]
  },
  {
   "cell_type": "markdown",
   "metadata": {},
   "source": [
    "9. Напишите программу, которая создает словарь d, в котором подсчитано, сколько раз каждое слово встречалось в строке text"
   ]
  },
  {
   "cell_type": "code",
   "execution_count": 17,
   "metadata": {},
   "outputs": [
    {
     "name": "stdout",
     "output_type": "stream",
     "text": [
      "{'a': 3, 'cat': 2, 'in': 2, 'the': 1, 'hat': 1, 'and': 1, 'dress': 1}\n"
     ]
    }
   ],
   "source": [
    "text = \"a cat in the hat and a cat in a dress\"\n",
    "d = {}\n",
    "for var in text.split():\n",
    "    if var in d:\n",
    "        d[var] += 1\n",
    "    else:\n",
    "        d[var] = 1\n",
    "print(d)"
   ]
  },
  {
   "cell_type": "markdown",
   "metadata": {},
   "source": [
    "10. Напишите программу, которая для введенной оценки от 0 до 10 выводит \"ЗАЧЕТ\" (если она больше или равна 4) или \"НЕЗАЧЕТ\" (в остальных случаях)"
   ]
  },
  {
   "cell_type": "code",
   "execution_count": 19,
   "metadata": {},
   "outputs": [
    {
     "name": "stdout",
     "output_type": "stream",
     "text": [
      "8\n",
      "ЗАЧЕТ\n"
     ]
    }
   ],
   "source": [
    "mark = int(input())\n",
    "if mark >= 4:\n",
    "    print('ЗАЧЕТ')\n",
    "else:\n",
    "    print('НЕЗАЧЕТ')"
   ]
  },
  {
   "cell_type": "markdown",
   "metadata": {},
   "source": [
    "11. Напишите программу, которая решает следующие задачи:\n",
    "\n",
    "+ вводится целое положительное число N1; вводится целое положительное число N2;\n",
    "+ нужно вывести квадраты всех четных чисел от N1 до N2 включительно, каждое число с новой строки;\n",
    "+ гарантируется, что N2 больше N1"
   ]
  },
  {
   "cell_type": "code",
   "execution_count": 20,
   "metadata": {},
   "outputs": [
    {
     "name": "stdout",
     "output_type": "stream",
     "text": [
      "2\n",
      "3\n",
      "4\n"
     ]
    }
   ],
   "source": [
    "N1 = int(input())\n",
    "N2 = int(input())\n",
    "while N1 <= N2:\n",
    "    if N1 % 2 == 0:\n",
    "        print(N1**2)\n",
    "    N1 += 1"
   ]
  },
  {
   "cell_type": "markdown",
   "metadata": {},
   "source": [
    "12. На вход подаются два множества из чисел. Напишите код, который находит объединение этих множеств и сохраняет в переменную ```set_3```"
   ]
  },
  {
   "cell_type": "code",
   "execution_count": 22,
   "metadata": {},
   "outputs": [
    {
     "name": "stdout",
     "output_type": "stream",
     "text": [
      "2,3,4\n",
      "1,2\n",
      "1,2 2,3,4\n"
     ]
    }
   ],
   "source": [
    "set_1 = set(input().split())\n",
    "set_2 = set(input().split())\n",
    "\n",
    "set_3 = set_1 | set_2\n",
    "print(*sorted(set_3))"
   ]
  },
  {
   "cell_type": "markdown",
   "metadata": {},
   "source": [
    "13. Напишите функцию, которая принимает два аргумента (слово и букву) и возвращает True, если слово начинается на эту букву, False, если не начинается."
   ]
  },
  {
   "cell_type": "code",
   "execution_count": 24,
   "metadata": {},
   "outputs": [
    {
     "data": {
      "text/plain": [
       "True"
      ]
     },
     "execution_count": 24,
     "metadata": {},
     "output_type": "execute_result"
    }
   ],
   "source": [
    "def check_first_letter(w,l):\n",
    "    if w[0] == l:\n",
    "        return True\n",
    "    return False\n",
    "\n",
    "check_first_letter('flower','f')"
   ]
  },
  {
   "cell_type": "markdown",
   "metadata": {},
   "source": [
    "14. На повышенную стипендию могут претендовать студенты со средним баллом не ниже 8 по 10-балльной шкале. \n",
    "Напишите функцию, которая определяет студентов, претендующих на повышенную стипендию. \n",
    "\n",
    "ТРЕБУЕМАЯ ФУНКЦИЯ \n",
    "+ Функция ```get_excellent```, которая принимает на вход словарь. \n",
    "+ Его ключами являются имена студентов, а значениями - списки оценок (целых чисел от 1 до 10). \n",
    "+ Функция должна возвращать список имен студентов, средний балл которых не ниже 8, отсортированный в алфавитном порядке.\n",
    "\n",
    "Например, для словаря\n",
    "```\n",
    "{\n",
    "    'Harry Potter': [7, 6, 8, 6, 6],\n",
    "    'Hermione Granger': [10, 10, 9, 10, 10, 9, 9],\n",
    "    'Ron Weasley': [6, 5, 7, 4, 5],\n",
    "    'Ginny Weasley': [9, 7, 8]\n",
    "}\n",
    "```\n",
    "\n",
    "результат: ```['Ginny Weasley', 'Hermione Granger']```"
   ]
  },
  {
   "cell_type": "code",
   "execution_count": 3,
   "metadata": {},
   "outputs": [],
   "source": [
    "students = {\n",
    "    'Harry Potter': [7, 6, 8, 6, 6],\n",
    "    'Hermione Granger': [10, 10, 9, 10, 10, 9, 9],\n",
    "    'Ron Weasley': [6, 5, 7, 4, 5],\n",
    "    'Ginny Weasley': [9, 7, 8]\n",
    "}"
   ]
  },
  {
   "cell_type": "code",
   "execution_count": 4,
   "metadata": {},
   "outputs": [],
   "source": [
    "def get_excellent(students):\n",
    "    names = []\n",
    "    for name, notes in students.items():\n",
    "        med_note = sum(notes) / len(notes)\n",
    "        if med_note >= 8:\n",
    "            names.append(name)\n",
    "    return sorted(names)\n"
   ]
  },
  {
   "cell_type": "code",
   "execution_count": 5,
   "metadata": {},
   "outputs": [
    {
     "name": "stdout",
     "output_type": "stream",
     "text": [
      "['Ginny Weasley', 'Hermione Granger']\n"
     ]
    }
   ],
   "source": [
    "print(get_excellent(students))"
   ]
  },
  {
   "cell_type": "markdown",
   "metadata": {},
   "source": [
    "15. Пусть объекты в данных имеют два числовых признака. Тогда эти объекты можно изобразить на двумерной плоскости. В нашей задаче дано 1000 объектов, каждый из которых описывается парой признаков (x1 ,x2 ), равномерно распределенных на единичной окружности. \n",
    "\n",
    "Среди перечисленных ниже утверждений найдите ошибочные:\n",
    "\n",
    "+ Значение коэффициента корреляции Пирсона между величинами x1 и x2 мало\n",
    "+ Величины x1 и x2 линейно зависимы\n",
    "+ Величины x1 и x2 зависимы, но не линейно\n",
    "+ Величины x1 и x2 независимы\n",
    "+ Величины x1 и x2 зависимы, поэтому при обучении любого алгоритма машинного обучения на наших данных один из признаков: x1 или x2  можно удалить."
   ]
  },
  {
   "cell_type": "markdown",
   "metadata": {},
   "source": [
    "16. Дан текст: “Но не каждый хочет что-то исправлять :(”\n",
    "После некоторой обработки получилось:\n",
    "    ```['но', ' ', 'не', ' ', 'каждый', ' ', 'хотеть', ' ', 'что-то', ' ', 'исправлять', ':(\\n']```\n",
    "\n",
    "Выберите все шаги, которые были сделаны с исходным текстом:\n",
    "+ Токенизация (tokenization)\n",
    "+ Векторизация (vectorization)\n",
    "+ Лемматизация (lemmatization)\n",
    "+ Стемминг (stemming)\n"
   ]
  },
  {
   "cell_type": "markdown",
   "metadata": {},
   "source": [
    "17. Выберите верные утверждения про K-means:\n",
    "\n",
    "+ Метод сам выбирает необходимое число кластеров.\n",
    "+ Найденная методом кластеризация зависит от выбора начального положения центров кластеров\n",
    "+ Метод подходит для кластеров со сложной геометрией\n",
    "+ Алгоритм завершается, когда на какой-то итерации не происходит изменения внутрикластерного расстояния. "
   ]
  }
 ],
 "metadata": {
  "kernelspec": {
   "display_name": "Python 3",
   "language": "python",
   "name": "python3"
  },
  "language_info": {
   "codemirror_mode": {
    "name": "ipython",
    "version": 3
   },
   "file_extension": ".py",
   "mimetype": "text/x-python",
   "name": "python",
   "nbconvert_exporter": "python",
   "pygments_lexer": "ipython3",
   "version": "3.8.5"
  }
 },
 "nbformat": 4,
 "nbformat_minor": 4
}
